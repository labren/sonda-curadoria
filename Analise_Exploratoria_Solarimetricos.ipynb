{
 "cells": [
  {
   "cell_type": "code",
   "execution_count": 1,
   "id": "2e841e4b",
   "metadata": {},
   "outputs": [],
   "source": [
    "import duckdb"
   ]
  },
  {
   "cell_type": "code",
   "execution_count": 4,
   "id": "8793ac63",
   "metadata": {},
   "outputs": [],
   "source": [
    "ARQUIVO_SOLARIMETRO = '../sonda-translator/Solarimetrica_2.parquet'\n",
    "NOME_DA_TABELA = 'solarimetrica'"
   ]
  },
  {
   "cell_type": "code",
   "execution_count": 3,
   "id": "8e74fb5c",
   "metadata": {},
   "outputs": [],
   "source": [
    "con = duckdb.connect(database=':memory:')"
   ]
  },
  {
   "cell_type": "code",
   "execution_count": null,
   "id": "643ee474",
   "metadata": {},
   "outputs": [],
   "source": [
    "# Cria as tabelas no banco de dados DuckDB a partir dos arquivos Parquet\n",
    "con.execute(f\"\"\"CREATE TABLE IF NOT EXISTS {NOME_DA_TABELA} AS \\\n",
    "            SELECT * FROM read_parquet('{ARQUIVO_SOLARIMETRO}')\"\"\")"
   ]
  },
  {
   "cell_type": "code",
   "execution_count": null,
   "id": "663ec958",
   "metadata": {},
   "outputs": [],
   "source": [
    "# Exibe as primeiras linhas da tabela meteorológica\n",
    "con.execute(f\"SELECT * FROM {NOME_DA_TABELA} LIMIT 5\").fetch_df()"
   ]
  }
 ],
 "metadata": {
  "kernelspec": {
   "display_name": "base",
   "language": "python",
   "name": "python3"
  },
  "language_info": {
   "codemirror_mode": {
    "name": "ipython",
    "version": 3
   },
   "file_extension": ".py",
   "mimetype": "text/x-python",
   "name": "python",
   "nbconvert_exporter": "python",
   "pygments_lexer": "ipython3",
   "version": "3.12.2"
  }
 },
 "nbformat": 4,
 "nbformat_minor": 5
}
