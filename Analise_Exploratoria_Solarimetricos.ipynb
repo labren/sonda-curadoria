{
 "cells": [
  {
   "cell_type": "code",
   "execution_count": 1,
   "id": "2e841e4b",
   "metadata": {},
   "outputs": [],
   "source": [
    "import duckdb\n",
    "import matplotlib.pyplot as plt\n",
    "import seaborn as sns"
   ]
  },
  {
   "cell_type": "code",
   "execution_count": 2,
   "id": "8793ac63",
   "metadata": {},
   "outputs": [],
   "source": [
    "ARQUIVO_SOLARIMETRO = '~/sonda-translator/output/sonda-banco-dados/Solarimetrica.parquet'\n",
    "NOME_DA_TABELA = 'solarimetrica'"
   ]
  },
  {
   "cell_type": "code",
   "execution_count": 3,
   "id": "8e74fb5c",
   "metadata": {},
   "outputs": [],
   "source": [
    "con = duckdb.connect(database=':memory:')"
   ]
  },
  {
   "cell_type": "code",
   "execution_count": 4,
   "id": "643ee474",
   "metadata": {},
   "outputs": [
    {
     "data": {
      "text/plain": [
       "<duckdb.duckdb.DuckDBPyConnection at 0x744543664c30>"
      ]
     },
     "execution_count": 4,
     "metadata": {},
     "output_type": "execute_result"
    }
   ],
   "source": [
    "# Cria as tabelas no banco de dados DuckDB a partir dos arquivos Parquet\n",
    "con.execute(f\"\"\"CREATE TABLE IF NOT EXISTS {NOME_DA_TABELA} AS \\\n",
    "            SELECT * FROM read_parquet('{ARQUIVO_SOLARIMETRO}')\"\"\")"
   ]
  },
  {
   "cell_type": "code",
   "execution_count": 5,
   "id": "663ec958",
   "metadata": {},
   "outputs": [
    {
     "data": {
      "text/html": [
       "<div>\n",
       "<style scoped>\n",
       "    .dataframe tbody tr th:only-of-type {\n",
       "        vertical-align: middle;\n",
       "    }\n",
       "\n",
       "    .dataframe tbody tr th {\n",
       "        vertical-align: top;\n",
       "    }\n",
       "\n",
       "    .dataframe thead th {\n",
       "        text-align: right;\n",
       "    }\n",
       "</style>\n",
       "<table border=\"1\" class=\"dataframe\">\n",
       "  <thead>\n",
       "    <tr style=\"text-align: right;\">\n",
       "      <th></th>\n",
       "      <th>acronym</th>\n",
       "      <th>timestamp</th>\n",
       "      <th>year</th>\n",
       "      <th>day</th>\n",
       "      <th>min</th>\n",
       "      <th>glo_avg</th>\n",
       "      <th>glo_std</th>\n",
       "      <th>glo_max</th>\n",
       "      <th>glo_min</th>\n",
       "      <th>dif_avg</th>\n",
       "      <th>...</th>\n",
       "      <th>dir_min</th>\n",
       "      <th>lw_avg</th>\n",
       "      <th>lw_std</th>\n",
       "      <th>lw_max</th>\n",
       "      <th>lw_min</th>\n",
       "      <th>temp_glo</th>\n",
       "      <th>temp_dir</th>\n",
       "      <th>temp_dif</th>\n",
       "      <th>temp_dome</th>\n",
       "      <th>temp_case</th>\n",
       "    </tr>\n",
       "  </thead>\n",
       "  <tbody>\n",
       "    <tr>\n",
       "      <th>0</th>\n",
       "      <td>SLZ</td>\n",
       "      <td>2015-03-01 02:07:00</td>\n",
       "      <td>2015</td>\n",
       "      <td>60</td>\n",
       "      <td>127.0</td>\n",
       "      <td>-1.305</td>\n",
       "      <td>0.000</td>\n",
       "      <td>-1.305</td>\n",
       "      <td>-1.305</td>\n",
       "      <td>-1.292</td>\n",
       "      <td>...</td>\n",
       "      <td>NaN</td>\n",
       "      <td>NaN</td>\n",
       "      <td>NaN</td>\n",
       "      <td>NaN</td>\n",
       "      <td>NaN</td>\n",
       "      <td>0.0</td>\n",
       "      <td>0.0</td>\n",
       "      <td>0.0</td>\n",
       "      <td>0.0</td>\n",
       "      <td>0.0</td>\n",
       "    </tr>\n",
       "    <tr>\n",
       "      <th>1</th>\n",
       "      <td>SLZ</td>\n",
       "      <td>2015-03-01 12:28:00</td>\n",
       "      <td>2015</td>\n",
       "      <td>60</td>\n",
       "      <td>748.0</td>\n",
       "      <td>687.900</td>\n",
       "      <td>11.010</td>\n",
       "      <td>706.000</td>\n",
       "      <td>670.900</td>\n",
       "      <td>652.500</td>\n",
       "      <td>...</td>\n",
       "      <td>NaN</td>\n",
       "      <td>NaN</td>\n",
       "      <td>NaN</td>\n",
       "      <td>NaN</td>\n",
       "      <td>NaN</td>\n",
       "      <td>0.0</td>\n",
       "      <td>0.0</td>\n",
       "      <td>0.0</td>\n",
       "      <td>0.0</td>\n",
       "      <td>0.0</td>\n",
       "    </tr>\n",
       "    <tr>\n",
       "      <th>2</th>\n",
       "      <td>SLZ</td>\n",
       "      <td>2015-03-01 13:00:00</td>\n",
       "      <td>2015</td>\n",
       "      <td>60</td>\n",
       "      <td>780.0</td>\n",
       "      <td>615.200</td>\n",
       "      <td>41.950</td>\n",
       "      <td>689.200</td>\n",
       "      <td>556.000</td>\n",
       "      <td>573.100</td>\n",
       "      <td>...</td>\n",
       "      <td>NaN</td>\n",
       "      <td>NaN</td>\n",
       "      <td>NaN</td>\n",
       "      <td>NaN</td>\n",
       "      <td>NaN</td>\n",
       "      <td>0.0</td>\n",
       "      <td>0.0</td>\n",
       "      <td>0.0</td>\n",
       "      <td>0.0</td>\n",
       "      <td>0.0</td>\n",
       "    </tr>\n",
       "    <tr>\n",
       "      <th>3</th>\n",
       "      <td>SLZ</td>\n",
       "      <td>2015-03-01 17:41:00</td>\n",
       "      <td>2015</td>\n",
       "      <td>60</td>\n",
       "      <td>1061.0</td>\n",
       "      <td>159.000</td>\n",
       "      <td>1.609</td>\n",
       "      <td>161.800</td>\n",
       "      <td>156.000</td>\n",
       "      <td>141.000</td>\n",
       "      <td>...</td>\n",
       "      <td>NaN</td>\n",
       "      <td>NaN</td>\n",
       "      <td>NaN</td>\n",
       "      <td>NaN</td>\n",
       "      <td>NaN</td>\n",
       "      <td>0.0</td>\n",
       "      <td>0.0</td>\n",
       "      <td>0.0</td>\n",
       "      <td>0.0</td>\n",
       "      <td>0.0</td>\n",
       "    </tr>\n",
       "    <tr>\n",
       "      <th>4</th>\n",
       "      <td>SLZ</td>\n",
       "      <td>2015-03-01 22:32:00</td>\n",
       "      <td>2015</td>\n",
       "      <td>60</td>\n",
       "      <td>1352.0</td>\n",
       "      <td>-0.653</td>\n",
       "      <td>0.000</td>\n",
       "      <td>-0.653</td>\n",
       "      <td>-0.653</td>\n",
       "      <td>-1.276</td>\n",
       "      <td>...</td>\n",
       "      <td>NaN</td>\n",
       "      <td>NaN</td>\n",
       "      <td>NaN</td>\n",
       "      <td>NaN</td>\n",
       "      <td>NaN</td>\n",
       "      <td>0.0</td>\n",
       "      <td>0.0</td>\n",
       "      <td>0.0</td>\n",
       "      <td>0.0</td>\n",
       "      <td>0.0</td>\n",
       "    </tr>\n",
       "  </tbody>\n",
       "</table>\n",
       "<p>5 rows × 34 columns</p>\n",
       "</div>"
      ],
      "text/plain": [
       "  acronym           timestamp  year  day     min  glo_avg  glo_std  glo_max  \\\n",
       "0     SLZ 2015-03-01 02:07:00  2015   60   127.0   -1.305    0.000   -1.305   \n",
       "1     SLZ 2015-03-01 12:28:00  2015   60   748.0  687.900   11.010  706.000   \n",
       "2     SLZ 2015-03-01 13:00:00  2015   60   780.0  615.200   41.950  689.200   \n",
       "3     SLZ 2015-03-01 17:41:00  2015   60  1061.0  159.000    1.609  161.800   \n",
       "4     SLZ 2015-03-01 22:32:00  2015   60  1352.0   -0.653    0.000   -0.653   \n",
       "\n",
       "   glo_min  dif_avg  ...  dir_min  lw_avg  lw_std  lw_max  lw_min  temp_glo  \\\n",
       "0   -1.305   -1.292  ...      NaN     NaN     NaN     NaN     NaN       0.0   \n",
       "1  670.900  652.500  ...      NaN     NaN     NaN     NaN     NaN       0.0   \n",
       "2  556.000  573.100  ...      NaN     NaN     NaN     NaN     NaN       0.0   \n",
       "3  156.000  141.000  ...      NaN     NaN     NaN     NaN     NaN       0.0   \n",
       "4   -0.653   -1.276  ...      NaN     NaN     NaN     NaN     NaN       0.0   \n",
       "\n",
       "   temp_dir  temp_dif  temp_dome  temp_case  \n",
       "0       0.0       0.0        0.0        0.0  \n",
       "1       0.0       0.0        0.0        0.0  \n",
       "2       0.0       0.0        0.0        0.0  \n",
       "3       0.0       0.0        0.0        0.0  \n",
       "4       0.0       0.0        0.0        0.0  \n",
       "\n",
       "[5 rows x 34 columns]"
      ]
     },
     "execution_count": 5,
     "metadata": {},
     "output_type": "execute_result"
    }
   ],
   "source": [
    "# Exibe as primeiras linhas da tabela meteorológica\n",
    "con.execute(f\"SELECT * FROM {NOME_DA_TABELA} LIMIT 5\").fetch_df()"
   ]
  },
  {
   "cell_type": "code",
   "execution_count": 6,
   "id": "7868b96d",
   "metadata": {},
   "outputs": [],
   "source": [
    "def verifica_temporal(base):\n",
    "    # Faz um agrupamento por acronym e timestamp para verificar se os dados são temporais, fazendo a contagem de registros por dia\n",
    "    query = f\"\"\"\n",
    "    SELECT acronym, DATE_TRUNC('year', timestamp) AS data, COUNT(*) AS registros\n",
    "    FROM {base}\n",
    "    GROUP BY acronym, data\n",
    "    ORDER BY data\n",
    "    \"\"\"\n",
    "    return con.execute(query).fetch_df()"
   ]
  },
  {
   "cell_type": "code",
   "execution_count": 7,
   "id": "ce0a55ae",
   "metadata": {},
   "outputs": [],
   "source": [
    "temporal_solar = verifica_temporal(NOME_DA_TABELA)"
   ]
  },
  {
   "cell_type": "code",
   "execution_count": 8,
   "id": "40c38ed6",
   "metadata": {},
   "outputs": [],
   "source": [
    "def plot_tempora(df, titulo):\n",
    "    df[\"year\"] = df[\"data\"].dt.year\n",
    "    df[\"month\"] = df[\"data\"].dt.month\n",
    "    df = df.dropna(subset=[\"year\"])\n",
    "    df[\"year\"] = df[\"year\"].astype(int)\n",
    "    # Reagrupando os dados para evitar duplicatas ao pivotar\n",
    "    df_grouped = df.groupby([\"acronym\", \"year\"])[\"registros\"].sum().reset_index()\n",
    "    # Criando a matriz pivot corrigida\n",
    "    heatmap_data = df_grouped.pivot(index=\"acronym\", columns=\"year\", values=\"registros\")\n",
    "    # Criando a figura\n",
    "    plt.figure(figsize=(8, max(4, len(heatmap_data) * 0.2)))  # Ajusta dinamicamente o tamanho\n",
    "    sns.heatmap(heatmap_data, cmap=\"coolwarm_r\", linewidths=0.5, linecolor=\"gray\", \n",
    "                cbar_kws={'label': 'Número de Registros'}, annot=False)\n",
    "    # Ajustando o gráfico\n",
    "    plt.title(titulo)\n",
    "    plt.xlabel(\"Ano\")\n",
    "    plt.ylabel(\"Estação\")\n",
    "    plt.xticks(rotation=45)\n",
    "    plt.yticks(rotation=0)\n",
    "    plt.show()"
   ]
  },
  {
   "cell_type": "code",
   "execution_count": 9,
   "id": "fccdaaf2",
   "metadata": {},
   "outputs": [
    {
     "name": "stderr",
     "output_type": "stream",
     "text": [
      "/tmp/ipykernel_4045501/2974472146.py:5: SettingWithCopyWarning: \n",
      "A value is trying to be set on a copy of a slice from a DataFrame.\n",
      "Try using .loc[row_indexer,col_indexer] = value instead\n",
      "\n",
      "See the caveats in the documentation: https://pandas.pydata.org/pandas-docs/stable/user_guide/indexing.html#returning-a-view-versus-a-copy\n",
      "  df[\"year\"] = df[\"year\"].astype(int)\n"
     ]
    },
    {
     "data": {
      "image/png": "[encoded data removed]",
      "text/plain": [
       "<Figure size 800x520 with 2 Axes>"
      ]
     },
     "metadata": {},
     "output_type": "display_data"
    }
   ],
   "source": [
    "plot_tempora(temporal_solar, 'Dados Solarimétricos')"
   ]
  }
 ],
 "metadata": {
  "kernelspec": {
   "display_name": "base",
   "language": "python",
   "name": "python3"
  },
  "language_info": {
   "codemirror_mode": {
    "name": "ipython",
    "version": 3
   },
   "file_extension": ".py",
   "mimetype": "text/x-python",
   "name": "python",
   "nbconvert_exporter": "python",
   "pygments_lexer": "ipython3",
   "version": "3.12.2"
  }
 },
 "nbformat": 4,
 "nbformat_minor": 5
}
