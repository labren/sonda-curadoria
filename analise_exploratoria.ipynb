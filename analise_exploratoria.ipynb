{
 "cells": [
  {
   "cell_type": "markdown",
   "metadata": {},
   "source": [
    "# 📊 Análise Exploratória de Dados de da Rede Sonda 🌦️\n",
    "\n",
    "## 📌 Introdução\n",
    "Este notebook realiza uma análise exploratória dos dados meteorológicos coletados de diversas estações. O objetivo é entender a estrutura dos dados, avaliar sua qualidade e identificar padrões relevantes.\n",
    "\n",
    "## 📂 Fonte dos Dados\n",
    "- Arquivos CSV formatados armazenados no ftp\n",
    "- Contêm medições de variáveis meteorológicas, solarimétricas e cameras.\n",
    "\n",
    "## 🔍 Objetivos da Análise\n",
    "1. **Carregar e explorar os dados**: verificar onde os dados estão armazenados, seu formato e estrutura.\n",
    "2. **Dimensionamento e variáveis disponíveis**: entender o tamanho dos arquivos, número de registros e colunas.\n",
    "3. **Análise temporal dos dados disponíveis**: identificar o período coberto e eventuais lacunas temporais.\n",
    "4. **Visualização da distribuição espacial das estações**: verificar a abrangência geográfica das medições.\n",
    "5. **Exploração inicial de distribuições**: histogramas e estatísticas básicas das variáveis.\n",
    "6. **Análise de qualidade dos dados** *(última etapa)*: identificar valores ausentes, inconsistências e flags de qualidade."
   ]
  },
  {
   "cell_type": "markdown",
   "metadata": {},
   "source": [
    "### 1. Carregar e Explorar os Dados\n",
    "Vamos começar listando o tamanho da base de dados que estão no diretório do ftp."
   ]
  },
  {
   "cell_type": "code",
   "execution_count": 1,
   "metadata": {},
   "outputs": [],
   "source": [
    "# Diretório onde os arquivos estão localizados\n",
    "DIRETORIO = '../sonda/dados_formatados/'"
   ]
  },
  {
   "cell_type": "code",
   "execution_count": 2,
   "metadata": {},
   "outputs": [
    {
     "name": "stdout",
     "output_type": "stream",
     "text": [
      "11G\t../sonda/dados_formatados/\n",
      "1,2G\t../sonda/dados_formatados/BRB\n",
      "1011M\t../sonda/dados_formatados/PTR\n",
      "989M\t../sonda/dados_formatados/FLN\n",
      "959M\t../sonda/dados_formatados/PMA\n",
      "759M\t../sonda/dados_formatados/JOI\n",
      "722M\t../sonda/dados_formatados/CPA\n",
      "714M\t../sonda/dados_formatados/SMS\n",
      "686M\t../sonda/dados_formatados/SLZ\n",
      "613M\t../sonda/dados_formatados/NAT\n",
      "536M\t../sonda/dados_formatados/CGR\n",
      "464M\t../sonda/dados_formatados/SBR\n",
      "413M\t../sonda/dados_formatados/TMA\n",
      "365M\t../sonda/dados_formatados/MCL\n",
      "349M\t../sonda/dados_formatados/ORN\n",
      "300M\t../sonda/dados_formatados/UBE\n",
      "284M\t../sonda/dados_formatados/BJL\n",
      "175M\t../sonda/dados_formatados/TLG\n",
      "174M\t../sonda/dados_formatados/CAI\n",
      "171M\t../sonda/dados_formatados/CTB\n",
      "55M\t../sonda/dados_formatados/CBA\n",
      "196K\t../sonda/dados_formatados/TRI\n",
      "196K\t../sonda/dados_formatados/SPK\n",
      "196K\t../sonda/dados_formatados/SCR\n",
      "196K\t../sonda/dados_formatados/RLM\n",
      "196K\t../sonda/dados_formatados/OPO\n",
      "196K\t../sonda/dados_formatados/MDS\n",
      "196K\t../sonda/dados_formatados/LEB\n",
      "196K\t../sonda/dados_formatados/CTS\n",
      "196K\t../sonda/dados_formatados/CPN\n",
      "196K\t../sonda/dados_formatados/CMS\n",
      "196K\t../sonda/dados_formatados/CHP\n",
      "196K\t../sonda/dados_formatados/BAB\n"
     ]
    }
   ],
   "source": [
    "# Exibe o tamanho de cada arquivo no diretório ordenado por tamanho de forma decrescente\n",
    "!du -h --max-depth=1 {DIRETORIO} | sort -rh"
   ]
  },
  {
   "cell_type": "markdown",
   "metadata": {},
   "source": [
    "Existem 3 tipos de dados:\n",
    "- Dados Meteorológicos\n",
    "- Dados Solarimétricos\n",
    "- Dados Anemometricos"
   ]
  },
  {
   "cell_type": "code",
   "execution_count": 3,
   "metadata": {},
   "outputs": [],
   "source": [
    "import glob\n",
    "\n",
    "# listar todos os dados Meteorológicos usando o glob só para o tipo de arquivo .csv\n",
    "dados_metereologicos = glob.glob(DIRETORIO + \"*/Meteorologicos/**/*.csv\", recursive=True)\n",
    "# Remove arquivos que contenham 'YYYY_MM_MD_DQC'\n",
    "dados_metereologicos = [arquivo for arquivo in dados_metereologicos if 'YYYY_MM' not in arquivo]\n",
    "\n",
    "# listar todos os dados de Solarimétricos usando o glob só para o tipo de arquivo .csv\n",
    "dados_solarimetricos = glob.glob(DIRETORIO + \"*/Solarimetricos/**/*.csv\", recursive=True)\n",
    "# Remove arquivos que contenham 'YYYY_MM_MD_DQC'\n",
    "dados_solarimetricos = [arquivo for arquivo in dados_solarimetricos if 'YYYY_MM' not in arquivo]\n",
    "\n",
    "# listar todos os dados de Anemometricos usando o glob só para o tipo de arquivo .csv\n",
    "dados_anemometricos = glob.glob(DIRETORIO + \"*/Anemometricos/**/*.csv\", recursive=True)\n",
    "# Remove arquivos que contenham 'YYYY_MM_MD_DQC'\n",
    "dados_anemometricos = [arquivo for arquivo in dados_anemometricos if 'YYYY_MM' not in arquivo]"
   ]
  },
  {
   "cell_type": "code",
   "execution_count": 4,
   "metadata": {},
   "outputs": [
    {
     "name": "stdout",
     "output_type": "stream",
     "text": [
      "Quantidade de arquivos Meteorologicos: 1036\n",
      "Quantidade de arquivos Solarimetricos: 1022\n",
      "Quantidade de arquivos Anemometricos: 0\n"
     ]
    }
   ],
   "source": [
    "# Listar a quantidade de arquivos em cada categoria\n",
    "print(f\"Quantidade de arquivos Meteorologicos: {len(dados_metereologicos)}\")\n",
    "print(f\"Quantidade de arquivos Solarimetricos: {len(dados_solarimetricos)}\")\n",
    "print(f\"Quantidade de arquivos Anemometricos: {len(dados_anemometricos)}\")"
   ]
  },
  {
   "cell_type": "code",
   "execution_count": 5,
   "metadata": {},
   "outputs": [],
   "source": [
    "import polars as pl\n",
    "\n",
    "def verifica_schema(lista_arquivos):\n",
    "\n",
    "    schema_dif = {}\n",
    "    # Lê os schema do primeiro arquivo e compara com os demais\n",
    "    schema = pl.read_csv(lista_arquivos[0]).schema\n",
    "    for arquivo in lista_arquivos[1:]:\n",
    "        schema_arquivo = pl.read_csv(arquivo).schema\n",
    "        if schema_arquivo != schema:\n",
    "            schema_dif[arquivo] = schema_arquivo\n",
    "\n",
    "    # Caso exista diferença de schema, exibe os arquivos e os schemas diferentes\n",
    "    if schema_dif:\n",
    "        print(\"Arquivos com schema diferente:\")\n",
    "        for arquivo, schema_arv in schema_dif.items():\n",
    "            print(f\"Arquivo: {arquivo}\")\n",
    "            print(f\"Schema do arquivo: {schema_arv}\")\n",
    "        print(f\"Schema   Original: {schema}\")\n",
    "        return schema, schema_dif\n",
    "    else:\n",
    "        print(\"Todos os arquivos possuem o mesmo schema\")\n",
    "        print(f\"Schema: {schema}\")\n",
    "    return schema, schema_dif"
   ]
  },
  {
   "cell_type": "code",
   "execution_count": 6,
   "metadata": {},
   "outputs": [
    {
     "name": "stdout",
     "output_type": "stream",
     "text": [
      "Arquivos Meteorologicos\n",
      "Todos os arquivos possuem o mesmo schema\n",
      "Schema: Schema({'acronym': String, 'timestamp': String, 'year': Int64, 'day': Int64, 'min': Int64, 'tp_sfc': String, 'humid_sfc': String, 'press': String, 'rain': String, 'ws10_avg': String, 'ws10_std': String, 'wd10_avg': String, 'wd10_std': String})\n",
      "\n",
      "Arquivos Solarimetricos\n",
      "Arquivos com schema diferente:\n",
      "Arquivo: ../sonda/dados_formatados/PMA/Solarimetricos/2016/PMA_2016_06_SD_formatado.csv\n",
      "Schema do arquivo: Schema({'acronym': String, 'timestamp': String, 'year': Float64, 'day': Float64, 'min': Float64, 'glo_avg': String, 'glo_std': String, 'glo_max': String, 'glo_min': String, 'dif_avg': String, 'dif_std': String, 'dif_max': String, 'dif_min': String, 'par_avg': String, 'par_std': String, 'par_max': String, 'par_min': String, 'lux_avg': String, 'lux_std': String, 'lux_max': String, 'lux_min': String, 'dir_avg': String, 'dir_std': String, 'dir_max': String, 'dir_min': String, 'lw_avg': String, 'lw_std': String, 'lw_max': String, 'lw_min': String, 'temp_glo': String, 'temp_dir': String, 'temp_dif': String, 'temp_dome': String, 'temp_case': String})\n",
      "Schema   Original: Schema({'acronym': String, 'timestamp': String, 'year': Int64, 'day': Int64, 'min': Int64, 'glo_avg': String, 'glo_std': String, 'glo_max': String, 'glo_min': String, 'dif_avg': String, 'dif_std': String, 'dif_max': String, 'dif_min': String, 'par_avg': String, 'par_std': String, 'par_max': String, 'par_min': String, 'lux_avg': String, 'lux_std': String, 'lux_max': String, 'lux_min': String, 'dir_avg': String, 'dir_std': String, 'dir_max': String, 'dir_min': String, 'lw_avg': String, 'lw_std': String, 'lw_max': String, 'lw_min': String, 'temp_glo': String, 'temp_dir': String, 'temp_dif': String, 'temp_dome': String, 'temp_case': String})\n"
     ]
    }
   ],
   "source": [
    "print('Arquivos Meteorologicos')\n",
    "schema_meteorologico, meteorologico_remover = verifica_schema(dados_metereologicos)\n",
    "\n",
    "print('\\nArquivos Solarimetricos')\n",
    "schema_solarimetrico, solar_remover = verifica_schema(dados_solarimetricos)"
   ]
  },
  {
   "cell_type": "code",
   "execution_count": 7,
   "metadata": {},
   "outputs": [],
   "source": [
    "# Remover arquivos que possuem schema diferente\n",
    "dados_metereologicos = [arquivo for arquivo in dados_metereologicos if arquivo not in meteorologico_remover.keys()]\n",
    "dados_solarimetricos = [arquivo for arquivo in dados_solarimetricos if arquivo not in solar_remover.keys()]"
   ]
  },
  {
   "cell_type": "code",
   "execution_count": 8,
   "metadata": {},
   "outputs": [],
   "source": [
    "# Função para leitura rápida de arquivos\n",
    "def ler_csv_rapido(file, schema):\n",
    "    return pl.scan_csv(\n",
    "        file, \n",
    "        skip_rows_after_header=1,  # Pula a linha logo após o cabeçalho\n",
    "        schema_overrides=schema,  # Utiliza o schema do primeiro arquivo\n",
    "    )"
   ]
  },
  {
   "cell_type": "code",
   "execution_count": null,
   "metadata": {},
   "outputs": [],
   "source": [
    "import os\n",
    "\n",
    "# Verifica se arquivo já existe em ../sonda/ caso sim, leia o arquivo, caso não, leia o arqui\n",
    "if os.path.exists('../sonda/meteorologicos.parquet'):\n",
    "    df_meteorologico = pl.read_parquet('../sonda/meteorologicos.parquet')\n",
    "else:\n",
    "    # Lê todos os arquivos de dados meteorológicos\n",
    "    df_meteorologico = pl.concat([ler_csv_rapido(file, schema_meteorologico) for file in dados_metereologicos])\n",
    "    # Materializar os dados na memória\n",
    "    df_meteorologico = df_meteorologico.collect()\n",
    "    # Salva os dados em um arquivo parquet\n",
    "    df_meteorologico.write_parquet('../sonda/meteorologicos.parquet', use_pyarrow=True)\n",
    "\n",
    "# Verifica se arquivo já existe em ../sonda/ caso sim, leia o arquivo, caso não, leia o arqui\n",
    "if os.path.exists('../sonda/solarimetricos.parquet'):\n",
    "    df_solarimetrico = pl.read_parquet('../sonda/solarimetricos.parquet')\n",
    "else:\n",
    "    # Configuração global do número de threads\n",
    "    os.environ[\"POLARS_MAX_THREADS\"] = \"5\" \n",
    "    # Lê todos os arquivos de dados solarimétricos\n",
    "    df_solarimetrico = pl.concat([ler_csv_rapido(file, schema_solarimetrico) for file in dados_solarimetricos])\n",
    "    # Materializar os dados na memória de maneira apropriada usando poucas threads\n",
    "    df_solarimetrico = df_solarimetrico.collect()\n",
    "    # Salva os dados em um arquivo parquet\n",
    "    df_solarimetrico.write_parquet('../sonda/solarimetricos.parquet', use_pyarrow=True)"
   ]
  },
  {
   "cell_type": "code",
   "execution_count": null,
   "metadata": {},
   "outputs": [],
   "source": []
  }
 ],
 "metadata": {
  "kernelspec": {
   "display_name": "base",
   "language": "python",
   "name": "python3"
  },
  "language_info": {
   "codemirror_mode": {
    "name": "ipython",
    "version": 3
   },
   "file_extension": ".py",
   "mimetype": "text/x-python",
   "name": "python",
   "nbconvert_exporter": "python",
   "pygments_lexer": "ipython3",
   "version": "3.12.2"
  }
 },
 "nbformat": 4,
 "nbformat_minor": 2
}
