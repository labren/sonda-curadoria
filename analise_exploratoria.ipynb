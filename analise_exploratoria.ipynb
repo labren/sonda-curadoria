{
 "cells": [
  {
   "cell_type": "markdown",
   "metadata": {},
   "source": [
    "# 📊 Análise Exploratória de Dados de da Rede Sonda 🌦️\n",
    "\n",
    "## 📌 Introdução\n",
    "Este notebook realiza uma análise exploratória dos dados meteorológicos coletados de diversas estações. O objetivo é entender a estrutura dos dados, avaliar sua qualidade e identificar padrões relevantes.\n",
    "\n",
    "## 📂 Fonte dos Dados\n",
    "- Arquivos CSV formatados armazenados no ftp\n",
    "- Contêm medições de variáveis meteorológicas, solarimétricas e cameras.\n",
    "\n",
    "## 🔍 Objetivos da Análise\n",
    "1. **Carregar e explorar os dados**: verificar onde os dados estão armazenados, seu formato e estrutura.\n",
    "2. **Dimensionamento e variáveis disponíveis**: entender o tamanho dos arquivos, número de registros e colunas.\n",
    "3. **Análise temporal dos dados disponíveis**: identificar o período coberto e eventuais lacunas temporais.\n",
    "4. **Visualização da distribuição espacial das estações**: verificar a abrangência geográfica das medições.\n",
    "5. **Exploração inicial de distribuições**: histogramas e estatísticas básicas das variáveis.\n",
    "6. **Análise de qualidade dos dados** *(última etapa)*: identificar valores ausentes, inconsistências e flags de qualidade."
   ]
  },
  {
   "cell_type": "markdown",
   "metadata": {},
   "source": [
    "### 1. Carregar e Explorar os Dados\n",
    "Vamos começar listando o tamanho da base de dados que estão no diretório do ftp."
   ]
  },
  {
   "cell_type": "code",
   "execution_count": null,
   "metadata": {},
   "outputs": [],
   "source": [
    "# Diretório onde os arquivos estão localizados\n",
    "DIRETORIO = '../sonda/dados_formatados/'"
   ]
  },
  {
   "cell_type": "code",
   "execution_count": null,
   "metadata": {},
   "outputs": [],
   "source": [
    "# Exibe o tamanho de cada arquivo no diretório ordenado por tamanho de forma decrescente\n",
    "!du -h --max-depth=1 {DIRETORIO} | sort -rh"
   ]
  },
  {
   "cell_type": "markdown",
   "metadata": {},
   "source": [
    "Análise dos dados por tipo\n",
    "- Dados Meteorológicos\n",
    "- Dados Solarimétricos\n",
    "- Dados de Câmeras"
   ]
  },
  {
   "cell_type": "code",
   "execution_count": null,
   "metadata": {},
   "outputs": [],
   "source": [
    "import glob"
   ]
  },
  {
   "cell_type": "code",
   "execution_count": null,
   "metadata": {},
   "outputs": [],
   "source": [
    "# listar todos os dados Meteorológicos usando o glob só para o tipo de arquivo .csv\n",
    "dados_metereologicos = glob.glob(DIRETORIO + \"*/Meteorologicos/**/*.csv\", recursive=True)\n",
    "# Remove arquivos que contenham 'YYYY_MM_MD_DQC'\n",
    "dados_metereologicos = [arquivo for arquivo in dados_metereologicos if 'YYYY_MM' not in arquivo]"
   ]
  },
  {
   "cell_type": "code",
   "execution_count": null,
   "metadata": {},
   "outputs": [],
   "source": [
    "!conda install -c conda-forge pyarrow -y"
   ]
  },
  {
   "cell_type": "code",
   "execution_count": null,
   "metadata": {},
   "outputs": [],
   "source": [
    "import dask.dataframe as dd"
   ]
  },
  {
   "cell_type": "code",
   "execution_count": null,
   "metadata": {},
   "outputs": [],
   "source": [
    "df = dd.read_csv(dados_metereologicos, skiprows=2)"
   ]
  },
  {
   "cell_type": "code",
   "execution_count": null,
   "metadata": {},
   "outputs": [],
   "source": [
    "import duckdb\n",
    "\n",
    "# Conectar ao DuckDB (em memória ou em um arquivo)\n",
    "con = duckdb.connect()\n",
    "\n",
    "# Usar a função `read_csv_auto` para ler todos os arquivos de uma vez, ignorando as duas primeiras linhas\n",
    "query = f\"\"\"\n",
    "SELECT *\n",
    "FROM read_csv_auto({', '.join([f\"'{arquivo}'\" for arquivo in dados_metereologicos[0:2]])}, union_by_name=True)\n",
    "\"\"\"\n",
    "\n",
    "# Executar a consulta para carregar os dados\n",
    "resultados = con.execute(query).fetchdf()"
   ]
  },
  {
   "cell_type": "code",
   "execution_count": null,
   "metadata": {},
   "outputs": [],
   "source": [
    "resultados"
   ]
  }
 ],
 "metadata": {
  "kernelspec": {
   "display_name": "base",
   "language": "python",
   "name": "python3"
  },
  "language_info": {
   "codemirror_mode": {
    "name": "ipython",
    "version": 3
   },
   "file_extension": ".py",
   "mimetype": "text/x-python",
   "name": "python",
   "nbconvert_exporter": "python",
   "pygments_lexer": "ipython3",
   "version": "3.12.2"
  }
 },
 "nbformat": 4,
 "nbformat_minor": 2
}
